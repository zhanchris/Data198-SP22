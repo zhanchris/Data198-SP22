{
 "cells": [
  {
   "cell_type": "markdown",
   "id": "a9b3ddeb",
   "metadata": {},
   "source": [
    "## Big Ginormous Title \n",
    "\n",
    "This is a markdown cell. You can write text in here!\n",
    "\n",
    "Name: Chris Zhan"
   ]
  },
  {
   "cell_type": "code",
   "execution_count": 1,
   "id": "2803be8e",
   "metadata": {},
   "outputs": [
    {
     "name": "stdout",
     "output_type": "stream",
     "text": [
      "this is a line of code. You can print me!\n"
     ]
    }
   ],
   "source": [
    "x = 'this is a line of code. You can print me!'\n",
    "print(x)"
   ]
  },
  {
   "cell_type": "code",
   "execution_count": 2,
   "id": "e65ff780",
   "metadata": {},
   "outputs": [],
   "source": [
    "import numpy as np"
   ]
  },
  {
   "cell_type": "code",
   "execution_count": 5,
   "id": "13c3690e",
   "metadata": {},
   "outputs": [
    {
     "data": {
      "text/plain": [
       "9000"
      ]
     },
     "execution_count": 5,
     "metadata": {},
     "output_type": "execute_result"
    }
   ],
   "source": [
    "result = 0\n",
    "for i in np.arange(300):\n",
    "    result += 30\n",
    "result"
   ]
  }
 ],
 "metadata": {
  "kernelspec": {
   "display_name": "Python 3 (ipykernel)",
   "language": "python",
   "name": "python3"
  },
  "language_info": {
   "codemirror_mode": {
    "name": "ipython",
    "version": 3
   },
   "file_extension": ".py",
   "mimetype": "text/x-python",
   "name": "python",
   "nbconvert_exporter": "python",
   "pygments_lexer": "ipython3",
   "version": "3.9.7"
  }
 },
 "nbformat": 4,
 "nbformat_minor": 5
}
